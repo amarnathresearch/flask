{
 "cells": [
  {
   "cell_type": "code",
   "execution_count": 1,
   "metadata": {},
   "outputs": [],
   "source": [
    "from sklearn.linear_model import LogisticRegression\n",
    "from sklearn.datasets import load_iris\n",
    "from sklearn.model_selection import train_test_split\n",
    "\n",
    "# Load and split data\n",
    "data = load_iris()\n",
    "Xtrain, Xtest, Ytrain, Ytest = train_test_split(data.data, data.target, test_size=0.3, random_state=4)\n"
   ]
  },
  {
   "cell_type": "code",
   "execution_count": 2,
   "metadata": {},
   "outputs": [
    {
     "name": "stderr",
     "output_type": "stream",
     "text": [
      "/home/amarnath/.local/lib/python3.8/site-packages/sklearn/linear_model/_logistic.py:1523: UserWarning: 'n_jobs' > 1 does not have any effect when 'solver' is set to 'liblinear'. Got 'n_jobs' = 3.\n",
      "  warnings.warn(\n"
     ]
    },
    {
     "data": {
      "text/plain": [
       "LogisticRegression(C=0.1, max_iter=20, n_jobs=3, solver='liblinear')"
      ]
     },
     "execution_count": 2,
     "metadata": {},
     "output_type": "execute_result"
    }
   ],
   "source": [
    "# Create a model\n",
    "model = LogisticRegression(C=0.1, \n",
    "                           max_iter=20, \n",
    "                           fit_intercept=True, \n",
    "                           n_jobs=3, \n",
    "                           solver='liblinear')\n",
    "model.fit(Xtrain, Ytrain)"
   ]
  },
  {
   "cell_type": "code",
   "execution_count": 3,
   "metadata": {},
   "outputs": [],
   "source": [
    "import pickle\n",
    "\n",
    "#\n",
    "# Create your model here (same as above)\n",
    "#\n",
    "\n",
    "# Save to file in the current working directory\n",
    "pkl_filename = \"/home/amarnath/Documents/deloitteai/flask/example2/models/iris_model.pkl\"\n",
    "with open(pkl_filename, 'wb') as file:\n",
    "    pickle.dump(model, file)\n"
   ]
  },
  {
   "cell_type": "code",
   "execution_count": 4,
   "metadata": {},
   "outputs": [
    {
     "name": "stdout",
     "output_type": "stream",
     "text": [
      "Test score: 91.11 %\n"
     ]
    }
   ],
   "source": [
    "# Load from file\n",
    "with open(pkl_filename, 'rb') as file:\n",
    "    pickle_model = pickle.load(file)\n",
    "    \n",
    "# Calculate the accuracy score and predict target values\n",
    "score = pickle_model.score(Xtest, Ytest)\n",
    "print(\"Test score: {0:.2f} %\".format(100 * score))\n",
    "Ypredict = pickle_model.predict(Xtest)"
   ]
  },
  {
   "cell_type": "code",
   "execution_count": 5,
   "metadata": {
    "collapsed": true
   },
   "outputs": [
    {
     "data": {
      "text/plain": [
       "array([[6.4, 2.8, 5.6, 2.1],\n",
       "       [5.7, 3.8, 1.7, 0.3],\n",
       "       [7.4, 2.8, 6.1, 1.9],\n",
       "       [7.6, 3. , 6.6, 2.1],\n",
       "       [7.3, 2.9, 6.3, 1.8],\n",
       "       [6. , 2.9, 4.5, 1.5],\n",
       "       [6. , 2.7, 5.1, 1.6],\n",
       "       [5.8, 4. , 1.2, 0.2],\n",
       "       [5.4, 3.9, 1.7, 0.4],\n",
       "       [6.3, 2.8, 5.1, 1.5],\n",
       "       [5. , 3. , 1.6, 0.2],\n",
       "       [4.8, 3.4, 1.6, 0.2],\n",
       "       [4.8, 3. , 1.4, 0.1],\n",
       "       [6.1, 2.9, 4.7, 1.4],\n",
       "       [5.7, 2.5, 5. , 2. ],\n",
       "       [4.9, 3.1, 1.5, 0.2],\n",
       "       [5. , 2. , 3.5, 1. ],\n",
       "       [4.7, 3.2, 1.3, 0.2],\n",
       "       [4.8, 3.4, 1.9, 0.2],\n",
       "       [6.3, 2.7, 4.9, 1.8],\n",
       "       [5. , 3.2, 1.2, 0.2],\n",
       "       [6.7, 3.3, 5.7, 2.1],\n",
       "       [6.2, 2.2, 4.5, 1.5],\n",
       "       [5. , 3.4, 1.6, 0.4],\n",
       "       [4.7, 3.2, 1.6, 0.2],\n",
       "       [5.1, 3.8, 1.5, 0.3],\n",
       "       [4.5, 2.3, 1.3, 0.3],\n",
       "       [5.4, 3.9, 1.3, 0.4],\n",
       "       [5.4, 3.4, 1.7, 0.2],\n",
       "       [5.8, 2.7, 5.1, 1.9],\n",
       "       [5.4, 3. , 4.5, 1.5],\n",
       "       [4.6, 3.2, 1.4, 0.2],\n",
       "       [6.7, 2.5, 5.8, 1.8],\n",
       "       [4.9, 3. , 1.4, 0.2],\n",
       "       [5. , 2.3, 3.3, 1. ],\n",
       "       [6.7, 3.3, 5.7, 2.5],\n",
       "       [7.2, 3.2, 6. , 1.8],\n",
       "       [5.8, 2.6, 4. , 1.2],\n",
       "       [6.7, 3.1, 4.7, 1.5],\n",
       "       [5.1, 3.8, 1.6, 0.2],\n",
       "       [7.7, 3. , 6.1, 2.3],\n",
       "       [5. , 3.4, 1.5, 0.2],\n",
       "       [6.7, 3.1, 4.4, 1.4],\n",
       "       [5.4, 3.7, 1.5, 0.2],\n",
       "       [6.4, 2.8, 5.6, 2.2]])"
      ]
     },
     "execution_count": 5,
     "metadata": {},
     "output_type": "execute_result"
    }
   ],
   "source": [
    "Xtest"
   ]
  },
  {
   "cell_type": "code",
   "execution_count": 6,
   "metadata": {},
   "outputs": [],
   "source": [
    "sample = [[6.4, 2.8, 5.6, 2.1]]"
   ]
  },
  {
   "cell_type": "code",
   "execution_count": 7,
   "metadata": {},
   "outputs": [],
   "source": [
    "Ypredict = pickle_model.predict(sample)"
   ]
  },
  {
   "cell_type": "code",
   "execution_count": 8,
   "metadata": {},
   "outputs": [
    {
     "data": {
      "text/plain": [
       "array([2])"
      ]
     },
     "execution_count": 8,
     "metadata": {},
     "output_type": "execute_result"
    }
   ],
   "source": [
    "Ypredict"
   ]
  },
  {
   "cell_type": "code",
   "execution_count": null,
   "metadata": {},
   "outputs": [],
   "source": []
  }
 ],
 "metadata": {
  "kernelspec": {
   "display_name": "Python 3",
   "language": "python",
   "name": "python3"
  },
  "language_info": {
   "codemirror_mode": {
    "name": "ipython",
    "version": 3
   },
   "file_extension": ".py",
   "mimetype": "text/x-python",
   "name": "python",
   "nbconvert_exporter": "python",
   "pygments_lexer": "ipython3",
   "version": "3.8.10"
  }
 },
 "nbformat": 4,
 "nbformat_minor": 4
}
